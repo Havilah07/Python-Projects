{
 "cells": [
  {
   "cell_type": "code",
   "execution_count": 6,
   "id": "00b363b3-0251-474c-9b84-c0855116f63e",
   "metadata": {},
   "outputs": [],
   "source": [
    "import csv\n",
    "\n",
    "def set_budget():\n",
    "    budget = float(input(\"Enter your monthly budget: \"))\n",
    "    return budget"
   ]
  },
  {
   "cell_type": "code",
   "execution_count": 8,
   "id": "9386c881-6217-4666-b24a-fd63d6c360e4",
   "metadata": {},
   "outputs": [],
   "source": [
    "def save_expenses(expenses, filename='expenses.csv'):\n",
    "    with open(filename, 'w', newline='') as file:\n",
    "        writer = csv.writer(file)\n",
    "        writer.writerow([\"Date\", \"Category\", \"Amount\", \"Description\"])\n",
    "        for expense in expenses:\n",
    "            writer.writerow([expense['date'], expense['category'], expense['amount'], expense['description']])\n",
    "    print(\"Expenses saved successfully.\")\n"
   ]
  },
  {
   "cell_type": "code",
   "execution_count": 10,
   "id": "ee150822-ebee-42a3-a707-5612c930aed9",
   "metadata": {},
   "outputs": [],
   "source": [
    "def load_expenses(filename='expenses.csv'):\n",
    "    expenses = []\n",
    "    try:\n",
    "        with open(filename, 'r') as file:\n",
    "            reader = csv.DictReader(file)\n",
    "            for row in reader:\n",
    "                expenses.append({\n",
    "                    'date': row['Date'],\n",
    "                    'category': row['Category'],\n",
    "                    'amount': float(row['Amount']),\n",
    "                    'description': row['Description']\n",
    "                })\n",
    "    except FileNotFoundError:\n",
    "        print(\"No previous expenses found... Starting fresh.\")\n",
    "    return expenses\n"
   ]
  },
  {
   "cell_type": "code",
   "execution_count": null,
   "id": "978ce5da-61eb-4eac-ae1f-edc6194d78ac",
   "metadata": {},
   "outputs": [],
   "source": []
  }
 ],
 "metadata": {
  "kernelspec": {
   "display_name": "Python [conda env:anaconda3]",
   "language": "python",
   "name": "conda-env-anaconda3-py"
  },
  "language_info": {
   "codemirror_mode": {
    "name": "ipython",
    "version": 3
   },
   "file_extension": ".py",
   "mimetype": "text/x-python",
   "name": "python",
   "nbconvert_exporter": "python",
   "pygments_lexer": "ipython3",
   "version": "3.13.5"
  }
 },
 "nbformat": 4,
 "nbformat_minor": 5
}
